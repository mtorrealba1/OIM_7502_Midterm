{
 "cells": [
  {
   "cell_type": "code",
   "execution_count": 7,
   "metadata": {},
   "outputs": [
    {
     "name": "stdout",
     "output_type": "stream",
     "text": [
      "Requirement already satisfied: scipy in c:\\users\\migue\\anaconda3\\lib\\site-packages (1.11.1)\n",
      "Requirement already satisfied: numpy<1.28.0,>=1.21.6 in c:\\users\\migue\\anaconda3\\lib\\site-packages (from scipy) (1.24.3)\n",
      "Note: you may need to restart the kernel to use updated packages.\n",
      "Requirement already satisfied: numpy in c:\\users\\migue\\anaconda3\\lib\\site-packages (1.24.3)\n",
      "Requirement already satisfied: matplotlib in c:\\users\\migue\\anaconda3\\lib\\site-packages (3.7.2)\n",
      "Requirement already satisfied: contourpy>=1.0.1 in c:\\users\\migue\\anaconda3\\lib\\site-packages (from matplotlib) (1.0.5)\n",
      "Requirement already satisfied: cycler>=0.10 in c:\\users\\migue\\anaconda3\\lib\\site-packages (from matplotlib) (0.11.0)\n",
      "Requirement already satisfied: fonttools>=4.22.0 in c:\\users\\migue\\anaconda3\\lib\\site-packages (from matplotlib) (4.25.0)\n",
      "Requirement already satisfied: kiwisolver>=1.0.1 in c:\\users\\migue\\anaconda3\\lib\\site-packages (from matplotlib) (1.4.4)\n",
      "Requirement already satisfied: packaging>=20.0 in c:\\users\\migue\\anaconda3\\lib\\site-packages (from matplotlib) (23.1)\n",
      "Requirement already satisfied: pillow>=6.2.0 in c:\\users\\migue\\anaconda3\\lib\\site-packages (from matplotlib) (9.4.0)\n",
      "Requirement already satisfied: pyparsing<3.1,>=2.3.1 in c:\\users\\migue\\anaconda3\\lib\\site-packages (from matplotlib) (3.0.9)\n",
      "Requirement already satisfied: python-dateutil>=2.7 in c:\\users\\migue\\anaconda3\\lib\\site-packages (from matplotlib) (2.8.2)\n",
      "Requirement already satisfied: six>=1.5 in c:\\users\\migue\\anaconda3\\lib\\site-packages (from python-dateutil>=2.7->matplotlib) (1.16.0)\n",
      "Note: you may need to restart the kernel to use updated packages.\n",
      "Result function1: 2.0\n",
      "Error function1: 2.220446049250313e-14\n",
      "Result function2: 0.6666666666666669\n",
      "Error function2: 1.4754810833321613e-14\n"
     ]
    }
   ],
   "source": [
    "#Quick Tutorial for SciPY\n",
    "\n",
    "#Libraries to install\n",
    "%pip install scipy\n",
    "%pip install numpy matplotlib\n",
    "\n",
    "#Libraries to import\n",
    "import scipy\n",
    "\n",
    "\n",
    "\n",
    "#Tutorial on numerical integration\n",
    "    #Numerical integration is the aprox computation of an integral\n",
    "import scipy.integrate as spi\n",
    "\n",
    "#We define the function to be integrated\n",
    "def function1(x):\n",
    "    return x\n",
    "\n",
    "def function2(x, y):\n",
    "    return x**2 + y**2\n",
    "\n",
    "#We integrate the function using spi.quad(function, parameter1, parameter2)\n",
    "result1, error1 = spi.quad(function1,0,2)\n",
    "\n",
    "result2, error2 = spi.nquad(function2, [[0, 1], [0, 1]])\n",
    "\n",
    "#Print results separating the result from the estimated error\n",
    "print(\"Result function1:\", result1)\n",
    "print(\"Error function1:\", error1)\n",
    "\n",
    "print(\"Result function2:\", result2)\n",
    "print(\"Error function2:\", error2)\n",
    "\n",
    "\n",
    "#Tutorial on Optimization\n",
    "import scipy.optimize\n",
    "from scipy.optimize import minimize as min\n",
    "\n",
    "#We define the function to be minimized\n",
    "def objective(x):\n",
    "    return (x - 2)**2 + 3\n",
    "\n",
    "#We use the minimize function to find the minimum\n",
    "result = minimize(objective, x0=0)\n",
    "\n",
    "print(\"Minimum value:\", result.fun)\n",
    "print(\"Optimal parameter:\", result.x)\n",
    "\n",
    "#Tutorial on Linear Algebra\n",
    "\n",
    "\n"
   ]
  }
 ],
 "metadata": {
  "kernelspec": {
   "display_name": "base",
   "language": "python",
   "name": "python3"
  },
  "language_info": {
   "codemirror_mode": {
    "name": "ipython",
    "version": 3
   },
   "file_extension": ".py",
   "mimetype": "text/x-python",
   "name": "python",
   "nbconvert_exporter": "python",
   "pygments_lexer": "ipython3",
   "version": "3.11.5"
  }
 },
 "nbformat": 4,
 "nbformat_minor": 2
}
