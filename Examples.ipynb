{
 "cells": [
  {
   "cell_type": "code",
   "execution_count": 5,
   "metadata": {},
   "outputs": [
    {
     "name": "stdout",
     "output_type": "stream",
     "text": [
      "Optimal allocation of units to each channel: [ 25. 425. 150.   0.]\n",
      "Maximized overall profitability: $ 48450.0000000001\n"
     ]
    }
   ],
   "source": [
    "#Code Examples\n",
    "\n",
    "#Example 1: Optimization with constraints\n",
    "    #OF = 90*X1 + 84*X2 + 70*X3 + 60*X4\n",
    "\n",
    "    #Subject to:\n",
    "    #10*X1 + 8*X2 + 9*X3 + 60*X4 <= 5000\n",
    "    #2*X1 + 3*X2 + 3*X3  <= 1800\n",
    "    #X1+X2+X3+X4 = 600\n",
    "    #X3 >= 150\n",
    "    #X1, X2, X3, X4 >=0\n",
    "\n",
    "\n",
    "from scipy.optimize import minimize\n",
    "import matplotlib.pyplot as plt\n",
    "\n",
    "# Define the objective function to maximize overall profitability\n",
    "def objective(x):\n",
    "    profit_per_unit = [90, 84, 70, 60]\n",
    "    return -sum(profit_per_unit[i] * x[i] for i in range(4))\n",
    "\n",
    "# Define the constraints\n",
    "def constraint_advertising(x):\n",
    "    advertising_budget = 5000\n",
    "    advertising_cost_per_unit = [10, 8, 9, 15]\n",
    "    return advertising_budget - sum(advertising_cost_per_unit[i] * x[i] for i in range(4))\n",
    "\n",
    "def constraint_salesforce(x):\n",
    "    max_salesforce_time = 1800\n",
    "    salesforce_time_per_unit = [2, 3, 3, 0]  # None is treated as 0\n",
    "    return max_salesforce_time - sum(salesforce_time_per_unit[i] * x[i] for i in range(4))\n",
    "\n",
    "def constraint_total_units(x):\n",
    "    total_units = 600\n",
    "    return total_units - sum(x)\n",
    "\n",
    "def constraint_retail_units(x):\n",
    "    min_retail_units = 150\n",
    "    return x[2] - min_retail_units  # Retail units must be at least 150\n",
    "\n",
    "# Initial guess (starting point for optimization)\n",
    "initial_guess = [0, 0, 0, 0]\n",
    "\n",
    "# Constraints for optimization\n",
    "constraints = [\n",
    "    {'type': 'ineq', 'fun': constraint_advertising},\n",
    "    {'type': 'ineq', 'fun': constraint_salesforce},\n",
    "    {'type': 'eq', 'fun': constraint_total_units},\n",
    "    {'type': 'ineq', 'fun': constraint_retail_units}\n",
    "]\n",
    "\n",
    "# Bounds for decision variables (number of units for each channel)\n",
    "bounds = [(0, None), (0, None), (0, None), (0, None)]\n",
    "\n",
    "# Solve the optimization problem\n",
    "result = minimize(objective, initial_guess, method='SLSQP', bounds=bounds, constraints=constraints)\n",
    "\n",
    "# Display the results\n",
    "print(\"Optimal allocation of units to each channel:\", result.x)\n",
    "print(\"Maximized overall profitability: $\", -result.fun)"
   ]
  },
  {
   "cell_type": "code",
   "execution_count": null,
   "metadata": {},
   "outputs": [],
   "source": []
  }
 ],
 "metadata": {
  "kernelspec": {
   "display_name": "base",
   "language": "python",
   "name": "python3"
  },
  "language_info": {
   "codemirror_mode": {
    "name": "ipython",
    "version": 3
   },
   "file_extension": ".py",
   "mimetype": "text/x-python",
   "name": "python",
   "nbconvert_exporter": "python",
   "pygments_lexer": "ipython3",
   "version": "3.11.5"
  }
 },
 "nbformat": 4,
 "nbformat_minor": 2
}
